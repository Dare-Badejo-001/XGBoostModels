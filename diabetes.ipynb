{
 "cells": [
  {
   "cell_type": "code",
   "execution_count": 1,
   "metadata": {},
   "outputs": [],
   "source": [
    "from numpy import loadtxt \n",
    "from xgboost import XGBClassifier \n",
    "from sklearn.model_selection import train_test_split\n",
    "from sklearn.metrics import accuracy_score\n",
    "import pandas as pd "
   ]
  },
  {
   "cell_type": "code",
   "execution_count": 4,
   "metadata": {},
   "outputs": [],
   "source": [
    "# loaddataset \n",
    "dataset = pd.read_csv('diabetes.csv') "
   ]
  },
  {
   "cell_type": "code",
   "execution_count": 5,
   "metadata": {},
   "outputs": [
    {
     "data": {
      "text/html": [
       "<div>\n",
       "<style scoped>\n",
       "    .dataframe tbody tr th:only-of-type {\n",
       "        vertical-align: middle;\n",
       "    }\n",
       "\n",
       "    .dataframe tbody tr th {\n",
       "        vertical-align: top;\n",
       "    }\n",
       "\n",
       "    .dataframe thead th {\n",
       "        text-align: right;\n",
       "    }\n",
       "</style>\n",
       "<table border=\"1\" class=\"dataframe\">\n",
       "  <thead>\n",
       "    <tr style=\"text-align: right;\">\n",
       "      <th></th>\n",
       "      <th>Pregnancies</th>\n",
       "      <th>Glucose</th>\n",
       "      <th>BloodPressure</th>\n",
       "      <th>SkinThickness</th>\n",
       "      <th>Insulin</th>\n",
       "      <th>BMI</th>\n",
       "      <th>DiabetesPedigreeFunction</th>\n",
       "      <th>Age</th>\n",
       "      <th>Outcome</th>\n",
       "    </tr>\n",
       "  </thead>\n",
       "  <tbody>\n",
       "    <tr>\n",
       "      <td>0</td>\n",
       "      <td>6</td>\n",
       "      <td>148</td>\n",
       "      <td>72</td>\n",
       "      <td>35</td>\n",
       "      <td>0</td>\n",
       "      <td>33.6</td>\n",
       "      <td>0.627</td>\n",
       "      <td>50</td>\n",
       "      <td>1</td>\n",
       "    </tr>\n",
       "    <tr>\n",
       "      <td>1</td>\n",
       "      <td>1</td>\n",
       "      <td>85</td>\n",
       "      <td>66</td>\n",
       "      <td>29</td>\n",
       "      <td>0</td>\n",
       "      <td>26.6</td>\n",
       "      <td>0.351</td>\n",
       "      <td>31</td>\n",
       "      <td>0</td>\n",
       "    </tr>\n",
       "    <tr>\n",
       "      <td>2</td>\n",
       "      <td>8</td>\n",
       "      <td>183</td>\n",
       "      <td>64</td>\n",
       "      <td>0</td>\n",
       "      <td>0</td>\n",
       "      <td>23.3</td>\n",
       "      <td>0.672</td>\n",
       "      <td>32</td>\n",
       "      <td>1</td>\n",
       "    </tr>\n",
       "    <tr>\n",
       "      <td>3</td>\n",
       "      <td>1</td>\n",
       "      <td>89</td>\n",
       "      <td>66</td>\n",
       "      <td>23</td>\n",
       "      <td>94</td>\n",
       "      <td>28.1</td>\n",
       "      <td>0.167</td>\n",
       "      <td>21</td>\n",
       "      <td>0</td>\n",
       "    </tr>\n",
       "    <tr>\n",
       "      <td>4</td>\n",
       "      <td>0</td>\n",
       "      <td>137</td>\n",
       "      <td>40</td>\n",
       "      <td>35</td>\n",
       "      <td>168</td>\n",
       "      <td>43.1</td>\n",
       "      <td>2.288</td>\n",
       "      <td>33</td>\n",
       "      <td>1</td>\n",
       "    </tr>\n",
       "  </tbody>\n",
       "</table>\n",
       "</div>"
      ],
      "text/plain": [
       "   Pregnancies  Glucose  BloodPressure  SkinThickness  Insulin   BMI  \\\n",
       "0            6      148             72             35        0  33.6   \n",
       "1            1       85             66             29        0  26.6   \n",
       "2            8      183             64              0        0  23.3   \n",
       "3            1       89             66             23       94  28.1   \n",
       "4            0      137             40             35      168  43.1   \n",
       "\n",
       "   DiabetesPedigreeFunction  Age  Outcome  \n",
       "0                     0.627   50        1  \n",
       "1                     0.351   31        0  \n",
       "2                     0.672   32        1  \n",
       "3                     0.167   21        0  \n",
       "4                     2.288   33        1  "
      ]
     },
     "execution_count": 5,
     "metadata": {},
     "output_type": "execute_result"
    }
   ],
   "source": [
    "dataset.head()"
   ]
  },
  {
   "cell_type": "code",
   "execution_count": 6,
   "metadata": {},
   "outputs": [],
   "source": [
    "X = dataset.drop('Outcome', axis=1).values \n",
    "y = dataset.Outcome.values "
   ]
  },
  {
   "cell_type": "code",
   "execution_count": 7,
   "metadata": {},
   "outputs": [],
   "source": [
    "# set seed and split to train and test datasets \n",
    "seed = 7 \n",
    "test_size = 0.33 \n",
    "X_train, X_test, y_train, y_test = train_test_split(X, y, test_size=test_size,random_state=seed)"
   ]
  },
  {
   "cell_type": "code",
   "execution_count": 8,
   "metadata": {},
   "outputs": [],
   "source": [
    "# fit model on training data\n",
    "model = XGBClassifier()\n",
    "model.fit(X_train, y_train)\n",
    "# make predictions for test \n",
    "predictions = model.predict(X_test)"
   ]
  },
  {
   "cell_type": "code",
   "execution_count": 9,
   "metadata": {},
   "outputs": [],
   "source": [
    "# evaluate the models \n",
    "accuracy = accuracy_score(y_test, predictions) \n"
   ]
  },
  {
   "cell_type": "code",
   "execution_count": 10,
   "metadata": {},
   "outputs": [
    {
     "name": "stdout",
     "output_type": "stream",
     "text": [
      "Accuracy: 74.02%\n"
     ]
    }
   ],
   "source": [
    "print(\"Accuracy: %.2f%%\" % (accuracy * 100.0))"
   ]
  },
  {
   "cell_type": "code",
   "execution_count": 11,
   "metadata": {},
   "outputs": [
    {
     "name": "stdout",
     "output_type": "stream",
     "text": [
      "[0.08907105 0.23959664 0.08799459 0.09824965 0.09801766 0.15170808\n",
      " 0.09959181 0.13577053]\n"
     ]
    },
    {
     "data": {
      "image/png": "[encoded data removed]",
      "text/plain": [
       "<Figure size 432x288 with 1 Axes>"
      ]
     },
     "metadata": {
      "needs_background": "light"
     },
     "output_type": "display_data"
    }
   ],
   "source": [
    "from matplotlib import pyplot\n",
    "\n",
    "# feature importance\n",
    "print(model.feature_importances_)\n",
    "# plot\n",
    "pyplot.bar(range(len(model.feature_importances_)), model.feature_importances_)\n",
    "pyplot.show()"
   ]
  },
  {
   "cell_type": "code",
   "execution_count": 12,
   "metadata": {},
   "outputs": [
    {
     "data": {
      "image/png": "[encoded data removed]",
      "text/plain": [
       "<Figure size 432x288 with 1 Axes>"
      ]
     },
     "metadata": {
      "needs_background": "light"
     },
     "output_type": "display_data"
    }
   ],
   "source": [
    "from xgboost import plot_importance\n",
    "# plot feature importance\n",
    "plot_importance(model)\n",
    "pyplot.show()"
   ]
  },
  {
   "cell_type": "code",
   "execution_count": 20,
   "metadata": {},
   "outputs": [
    {
     "name": "stdout",
     "output_type": "stream",
     "text": [
      "Thresh=0.088, n=8, Accuracy: 74.02%\n",
      "Thresh=0.089, n=7, Accuracy: 71.65%\n",
      "Thresh=0.098, n=6, Accuracy: 71.26%\n",
      "Thresh=0.098, n=5, Accuracy: 74.41%\n",
      "Thresh=0.100, n=4, Accuracy: 74.80%\n",
      "Thresh=0.136, n=3, Accuracy: 71.26%\n",
      "Thresh=0.152, n=2, Accuracy: 71.26%\n",
      "Thresh=0.240, n=1, Accuracy: 67.32%\n"
     ]
    }
   ],
   "source": [
    "from sklearn.feature_selection import SelectFromModel\n",
    "from numpy import sort\n",
    "\n",
    "accuracy_value = [] \n",
    "threshold_value = [] \n",
    "thresholds = sort(model.feature_importances_)\n",
    "for thresh in thresholds: \n",
    "    # select features using threshold \n",
    "    selection = SelectFromModel(model, threshold = thresh, prefit=True) \n",
    "    select_X_train = selection.transform(X_train) \n",
    "\n",
    "    # train model \n",
    "    selection_model = XGBClassifier() \n",
    "    selection_model.fit(select_X_train, y_train) \n",
    "\n",
    "    #eval model \n",
    "    select_X_test = selection.transform(X_test) \n",
    "    predictions = selection_model.predict(select_X_test) \n",
    "    accuracy = accuracy_score(y_test, predictions) \n",
    "    threshold_value.append(select_X_train.shape[1]) \n",
    "    accuracy_value.append(accuracy)\n",
    "    print(\"Thresh=%.3f, n=%d, Accuracy: %.2f%%\" % (thresh, select_X_train.shape[1],accuracy*100.0))\n"
   ]
  },
  {
   "cell_type": "code",
   "execution_count": 23,
   "metadata": {},
   "outputs": [],
   "source": [
    "import matplotlib.pyplot as plt\n",
    "\n",
    "def plot_threshold_vs_accuracy(threshold_values, accuracy_values):\n",
    "    plt.plot(threshold_values, accuracy_values, marker='o', linestyle='-')\n",
    "    plt.xlabel('Features')\n",
    "    plt.ylabel('Accuracy')\n",
    "    plt.title('Threshold vs. Accuracy')\n",
    "    plt.grid(True)\n",
    "    plt.show()"
   ]
  },
  {
   "cell_type": "code",
   "execution_count": 24,
   "metadata": {},
   "outputs": [
    {
     "data": {
      "image/png": "[encoded data removed]",
      "text/plain": [
       "<Figure size 432x288 with 1 Axes>"
      ]
     },
     "metadata": {
      "needs_background": "light"
     },
     "output_type": "display_data"
    }
   ],
   "source": [
    "# Plot the threshold versus accuracy\n",
    "plot_threshold_vs_accuracy(threshold_value, accuracy_value)"
   ]
  },
  {
   "cell_type": "code",
   "execution_count": 26,
   "metadata": {},
   "outputs": [
    {
     "name": "stdout",
     "output_type": "stream",
     "text": [
      "[0]\tvalidation_0-error:0.13619\tvalidation_0-logloss:0.55257\tvalidation_1-error:0.28346\tvalidation_1-logloss:0.60491\n",
      "[1]\tvalidation_0-error:0.10895\tvalidation_0-logloss:0.46754\tvalidation_1-error:0.25984\tvalidation_1-logloss:0.55934\n",
      "[2]\tvalidation_0-error:0.10506\tvalidation_0-logloss:0.40734\tvalidation_1-error:0.25591\tvalidation_1-logloss:0.53068\n",
      "[3]\tvalidation_0-error:0.09144\tvalidation_0-logloss:0.36480\tvalidation_1-error:0.24803\tvalidation_1-logloss:0.51795\n",
      "[4]\tvalidation_0-error:0.08560\tvalidation_0-logloss:0.33012\tvalidation_1-error:0.24409\tvalidation_1-logloss:0.51153\n",
      "[5]\tvalidation_0-error:0.07782\tvalidation_0-logloss:0.29868\tvalidation_1-error:0.24803\tvalidation_1-logloss:0.50934\n",
      "[6]\tvalidation_0-error:0.06809\tvalidation_0-logloss:0.27852\tvalidation_1-error:0.25591\tvalidation_1-logloss:0.50818\n",
      "[7]\tvalidation_0-error:0.06615\tvalidation_0-logloss:0.26182\tvalidation_1-error:0.24803\tvalidation_1-logloss:0.51097\n",
      "[8]\tvalidation_0-error:0.06226\tvalidation_0-logloss:0.24578\tvalidation_1-error:0.25591\tvalidation_1-logloss:0.51760\n",
      "[9]\tvalidation_0-error:0.05642\tvalidation_0-logloss:0.23298\tvalidation_1-error:0.24409\tvalidation_1-logloss:0.51912\n",
      "[10]\tvalidation_0-error:0.04669\tvalidation_0-logloss:0.21955\tvalidation_1-error:0.24803\tvalidation_1-logloss:0.52503\n",
      "[11]\tvalidation_0-error:0.04280\tvalidation_0-logloss:0.21051\tvalidation_1-error:0.24409\tvalidation_1-logloss:0.52697\n",
      "[12]\tvalidation_0-error:0.03502\tvalidation_0-logloss:0.20083\tvalidation_1-error:0.23228\tvalidation_1-logloss:0.53335\n",
      "[13]\tvalidation_0-error:0.03696\tvalidation_0-logloss:0.19466\tvalidation_1-error:0.24016\tvalidation_1-logloss:0.53905\n",
      "[14]\tvalidation_0-error:0.03502\tvalidation_0-logloss:0.18725\tvalidation_1-error:0.23622\tvalidation_1-logloss:0.54545\n",
      "[15]\tvalidation_0-error:0.02918\tvalidation_0-logloss:0.17765\tvalidation_1-error:0.24409\tvalidation_1-logloss:0.54613\n",
      "[16]\tvalidation_0-error:0.02724\tvalidation_0-logloss:0.16747\tvalidation_1-error:0.25591\tvalidation_1-logloss:0.54982\n",
      "[17]\tvalidation_0-error:0.02140\tvalidation_0-logloss:0.15879\tvalidation_1-error:0.23622\tvalidation_1-logloss:0.55226\n",
      "[18]\tvalidation_0-error:0.01946\tvalidation_0-logloss:0.15115\tvalidation_1-error:0.24016\tvalidation_1-logloss:0.55355\n",
      "[19]\tvalidation_0-error:0.00973\tvalidation_0-logloss:0.14529\tvalidation_1-error:0.23622\tvalidation_1-logloss:0.55847\n",
      "[20]\tvalidation_0-error:0.00973\tvalidation_0-logloss:0.14282\tvalidation_1-error:0.23622\tvalidation_1-logloss:0.56063\n",
      "[21]\tvalidation_0-error:0.00778\tvalidation_0-logloss:0.13959\tvalidation_1-error:0.23622\tvalidation_1-logloss:0.56665\n",
      "[22]\tvalidation_0-error:0.00778\tvalidation_0-logloss:0.13253\tvalidation_1-error:0.23622\tvalidation_1-logloss:0.57418\n",
      "[23]\tvalidation_0-error:0.00778\tvalidation_0-logloss:0.12705\tvalidation_1-error:0.24409\tvalidation_1-logloss:0.57448\n",
      "[24]\tvalidation_0-error:0.00778\tvalidation_0-logloss:0.12430\tvalidation_1-error:0.24409\tvalidation_1-logloss:0.57511\n",
      "[25]\tvalidation_0-error:0.00584\tvalidation_0-logloss:0.12175\tvalidation_1-error:0.24016\tvalidation_1-logloss:0.58052\n",
      "[26]\tvalidation_0-error:0.00584\tvalidation_0-logloss:0.11715\tvalidation_1-error:0.24409\tvalidation_1-logloss:0.58830\n",
      "[27]\tvalidation_0-error:0.00584\tvalidation_0-logloss:0.11200\tvalidation_1-error:0.24409\tvalidation_1-logloss:0.59717\n",
      "[28]\tvalidation_0-error:0.00195\tvalidation_0-logloss:0.10682\tvalidation_1-error:0.25591\tvalidation_1-logloss:0.60530\n",
      "[29]\tvalidation_0-error:0.00389\tvalidation_0-logloss:0.10413\tvalidation_1-error:0.25197\tvalidation_1-logloss:0.60871\n",
      "[30]\tvalidation_0-error:0.00195\tvalidation_0-logloss:0.09942\tvalidation_1-error:0.24803\tvalidation_1-logloss:0.61161\n",
      "[31]\tvalidation_0-error:0.00195\tvalidation_0-logloss:0.09640\tvalidation_1-error:0.25591\tvalidation_1-logloss:0.61695\n",
      "[32]\tvalidation_0-error:0.00195\tvalidation_0-logloss:0.09168\tvalidation_1-error:0.25591\tvalidation_1-logloss:0.61717\n",
      "[33]\tvalidation_0-error:0.00000\tvalidation_0-logloss:0.08941\tvalidation_1-error:0.25984\tvalidation_1-logloss:0.62061\n",
      "[34]\tvalidation_0-error:0.00195\tvalidation_0-logloss:0.08648\tvalidation_1-error:0.26378\tvalidation_1-logloss:0.61886\n",
      "[35]\tvalidation_0-error:0.00000\tvalidation_0-logloss:0.08371\tvalidation_1-error:0.26378\tvalidation_1-logloss:0.61903\n",
      "[36]\tvalidation_0-error:0.00000\tvalidation_0-logloss:0.08277\tvalidation_1-error:0.26378\tvalidation_1-logloss:0.62187\n",
      "[37]\tvalidation_0-error:0.00000\tvalidation_0-logloss:0.08041\tvalidation_1-error:0.26772\tvalidation_1-logloss:0.62557\n",
      "[38]\tvalidation_0-error:0.00000\tvalidation_0-logloss:0.07842\tvalidation_1-error:0.26378\tvalidation_1-logloss:0.62663\n",
      "[39]\tvalidation_0-error:0.00000\tvalidation_0-logloss:0.07651\tvalidation_1-error:0.25984\tvalidation_1-logloss:0.62743\n",
      "[40]\tvalidation_0-error:0.00000\tvalidation_0-logloss:0.07424\tvalidation_1-error:0.25591\tvalidation_1-logloss:0.62667\n",
      "[41]\tvalidation_0-error:0.00000\tvalidation_0-logloss:0.07202\tvalidation_1-error:0.24409\tvalidation_1-logloss:0.63148\n",
      "[42]\tvalidation_0-error:0.00000\tvalidation_0-logloss:0.07012\tvalidation_1-error:0.24803\tvalidation_1-logloss:0.63695\n",
      "[43]\tvalidation_0-error:0.00000\tvalidation_0-logloss:0.06862\tvalidation_1-error:0.24803\tvalidation_1-logloss:0.64021\n",
      "[44]\tvalidation_0-error:0.00000\tvalidation_0-logloss:0.06629\tvalidation_1-error:0.25591\tvalidation_1-logloss:0.64323\n",
      "[45]\tvalidation_0-error:0.00000\tvalidation_0-logloss:0.06394\tvalidation_1-error:0.25197\tvalidation_1-logloss:0.64747\n",
      "[46]\tvalidation_0-error:0.00000\tvalidation_0-logloss:0.06231\tvalidation_1-error:0.26378\tvalidation_1-logloss:0.64921\n",
      "[47]\tvalidation_0-error:0.00000\tvalidation_0-logloss:0.06090\tvalidation_1-error:0.26378\tvalidation_1-logloss:0.65250\n",
      "[48]\tvalidation_0-error:0.00000\tvalidation_0-logloss:0.05953\tvalidation_1-error:0.26378\tvalidation_1-logloss:0.65838\n",
      "[49]\tvalidation_0-error:0.00000\tvalidation_0-logloss:0.05801\tvalidation_1-error:0.25984\tvalidation_1-logloss:0.66152\n",
      "[50]\tvalidation_0-error:0.00000\tvalidation_0-logloss:0.05643\tvalidation_1-error:0.27165\tvalidation_1-logloss:0.66584\n",
      "[51]\tvalidation_0-error:0.00000\tvalidation_0-logloss:0.05549\tvalidation_1-error:0.26772\tvalidation_1-logloss:0.66783\n",
      "[52]\tvalidation_0-error:0.00000\tvalidation_0-logloss:0.05462\tvalidation_1-error:0.27165\tvalidation_1-logloss:0.67103\n",
      "[53]\tvalidation_0-error:0.00000\tvalidation_0-logloss:0.05347\tvalidation_1-error:0.26772\tvalidation_1-logloss:0.67425\n",
      "[54]\tvalidation_0-error:0.00000\tvalidation_0-logloss:0.05253\tvalidation_1-error:0.26378\tvalidation_1-logloss:0.67873\n",
      "[55]\tvalidation_0-error:0.00000\tvalidation_0-logloss:0.05153\tvalidation_1-error:0.26378\tvalidation_1-logloss:0.67768\n",
      "[56]\tvalidation_0-error:0.00000\tvalidation_0-logloss:0.05051\tvalidation_1-error:0.26378\tvalidation_1-logloss:0.68269\n",
      "[57]\tvalidation_0-error:0.00000\tvalidation_0-logloss:0.04942\tvalidation_1-error:0.26772\tvalidation_1-logloss:0.68738\n",
      "[58]\tvalidation_0-error:0.00000\tvalidation_0-logloss:0.04892\tvalidation_1-error:0.27165\tvalidation_1-logloss:0.69011\n",
      "[59]\tvalidation_0-error:0.00000\tvalidation_0-logloss:0.04799\tvalidation_1-error:0.26772\tvalidation_1-logloss:0.69266\n",
      "[60]\tvalidation_0-error:0.00000\tvalidation_0-logloss:0.04720\tvalidation_1-error:0.27165\tvalidation_1-logloss:0.69469\n",
      "[61]\tvalidation_0-error:0.00000\tvalidation_0-logloss:0.04643\tvalidation_1-error:0.27165\tvalidation_1-logloss:0.70239\n",
      "[62]\tvalidation_0-error:0.00000\tvalidation_0-logloss:0.04535\tvalidation_1-error:0.26772\tvalidation_1-logloss:0.70504\n",
      "[63]\tvalidation_0-error:0.00000\tvalidation_0-logloss:0.04454\tvalidation_1-error:0.26772\tvalidation_1-logloss:0.70622\n",
      "[64]\tvalidation_0-error:0.00000\tvalidation_0-logloss:0.04379\tvalidation_1-error:0.26378\tvalidation_1-logloss:0.70810\n",
      "[65]\tvalidation_0-error:0.00000\tvalidation_0-logloss:0.04315\tvalidation_1-error:0.25984\tvalidation_1-logloss:0.71247\n",
      "[66]\tvalidation_0-error:0.00000\tvalidation_0-logloss:0.04241\tvalidation_1-error:0.27165\tvalidation_1-logloss:0.71706\n",
      "[67]\tvalidation_0-error:0.00000\tvalidation_0-logloss:0.04163\tvalidation_1-error:0.27559\tvalidation_1-logloss:0.71636\n",
      "[68]\tvalidation_0-error:0.00000\tvalidation_0-logloss:0.04085\tvalidation_1-error:0.26772\tvalidation_1-logloss:0.71625\n",
      "[69]\tvalidation_0-error:0.00000\tvalidation_0-logloss:0.04036\tvalidation_1-error:0.26378\tvalidation_1-logloss:0.71904\n",
      "[70]\tvalidation_0-error:0.00000\tvalidation_0-logloss:0.03993\tvalidation_1-error:0.26378\tvalidation_1-logloss:0.72348\n",
      "[71]\tvalidation_0-error:0.00000\tvalidation_0-logloss:0.03907\tvalidation_1-error:0.26772\tvalidation_1-logloss:0.72573\n",
      "[72]\tvalidation_0-error:0.00000\tvalidation_0-logloss:0.03835\tvalidation_1-error:0.26772\tvalidation_1-logloss:0.72761\n",
      "[73]\tvalidation_0-error:0.00000\tvalidation_0-logloss:0.03762\tvalidation_1-error:0.26772\tvalidation_1-logloss:0.72992\n",
      "[74]\tvalidation_0-error:0.00000\tvalidation_0-logloss:0.03719\tvalidation_1-error:0.26772\tvalidation_1-logloss:0.73336\n",
      "[75]\tvalidation_0-error:0.00000\tvalidation_0-logloss:0.03669\tvalidation_1-error:0.26772\tvalidation_1-logloss:0.73444\n",
      "[76]\tvalidation_0-error:0.00000\tvalidation_0-logloss:0.03632\tvalidation_1-error:0.26772\tvalidation_1-logloss:0.73795\n",
      "[77]\tvalidation_0-error:0.00000\tvalidation_0-logloss:0.03588\tvalidation_1-error:0.27165\tvalidation_1-logloss:0.74054\n",
      "[78]\tvalidation_0-error:0.00000\tvalidation_0-logloss:0.03521\tvalidation_1-error:0.26772\tvalidation_1-logloss:0.74512\n",
      "[79]\tvalidation_0-error:0.00000\tvalidation_0-logloss:0.03464\tvalidation_1-error:0.27165\tvalidation_1-logloss:0.74767\n",
      "[80]\tvalidation_0-error:0.00000\tvalidation_0-logloss:0.03432\tvalidation_1-error:0.27165\tvalidation_1-logloss:0.74878\n",
      "[81]\tvalidation_0-error:0.00000\tvalidation_0-logloss:0.03380\tvalidation_1-error:0.28346\tvalidation_1-logloss:0.75047\n",
      "[82]\tvalidation_0-error:0.00000\tvalidation_0-logloss:0.03343\tvalidation_1-error:0.27559\tvalidation_1-logloss:0.75475\n",
      "[83]\tvalidation_0-error:0.00000\tvalidation_0-logloss:0.03297\tvalidation_1-error:0.27165\tvalidation_1-logloss:0.75587\n",
      "[84]\tvalidation_0-error:0.00000\tvalidation_0-logloss:0.03245\tvalidation_1-error:0.27559\tvalidation_1-logloss:0.75861\n",
      "[85]\tvalidation_0-error:0.00000\tvalidation_0-logloss:0.03208\tvalidation_1-error:0.26772\tvalidation_1-logloss:0.75890\n",
      "[86]\tvalidation_0-error:0.00000\tvalidation_0-logloss:0.03169\tvalidation_1-error:0.26772\tvalidation_1-logloss:0.76230\n",
      "[87]\tvalidation_0-error:0.00000\tvalidation_0-logloss:0.03139\tvalidation_1-error:0.26378\tvalidation_1-logloss:0.76483\n",
      "[88]\tvalidation_0-error:0.00000\tvalidation_0-logloss:0.03111\tvalidation_1-error:0.26772\tvalidation_1-logloss:0.76738\n",
      "[89]\tvalidation_0-error:0.00000\tvalidation_0-logloss:0.03077\tvalidation_1-error:0.26378\tvalidation_1-logloss:0.77021\n",
      "[90]\tvalidation_0-error:0.00000\tvalidation_0-logloss:0.03041\tvalidation_1-error:0.27165\tvalidation_1-logloss:0.77393\n",
      "[91]\tvalidation_0-error:0.00000\tvalidation_0-logloss:0.03003\tvalidation_1-error:0.26772\tvalidation_1-logloss:0.77259\n",
      "[92]\tvalidation_0-error:0.00000\tvalidation_0-logloss:0.02976\tvalidation_1-error:0.27165\tvalidation_1-logloss:0.77214\n",
      "[93]\tvalidation_0-error:0.00000\tvalidation_0-logloss:0.02947\tvalidation_1-error:0.26378\tvalidation_1-logloss:0.77362\n",
      "[94]\tvalidation_0-error:0.00000\tvalidation_0-logloss:0.02912\tvalidation_1-error:0.27165\tvalidation_1-logloss:0.77521\n",
      "[95]\tvalidation_0-error:0.00000\tvalidation_0-logloss:0.02877\tvalidation_1-error:0.26378\tvalidation_1-logloss:0.77405\n",
      "[96]\tvalidation_0-error:0.00000\tvalidation_0-logloss:0.02853\tvalidation_1-error:0.25984\tvalidation_1-logloss:0.77413\n",
      "[97]\tvalidation_0-error:0.00000\tvalidation_0-logloss:0.02833\tvalidation_1-error:0.26378\tvalidation_1-logloss:0.77805\n",
      "[98]\tvalidation_0-error:0.00000\tvalidation_0-logloss:0.02809\tvalidation_1-error:0.25984\tvalidation_1-logloss:0.77660\n",
      "[99]\tvalidation_0-error:0.00000\tvalidation_0-logloss:0.02787\tvalidation_1-error:0.25984\tvalidation_1-logloss:0.77681\n",
      "Accuracy: 74.02%\n"
     ]
    }
   ],
   "source": [
    "# early stopping with xgboost \n",
    "eval_set = [(X_train, y_train), (X_test, y_test)]\n",
    "model.fit(X_train, y_train, eval_metric=[\"error\", \"logloss\"], eval_set=eval_set, verbose=True)\n",
    "# make predictions for test data\n",
    "predictions = model.predict(X_test)\n",
    "# evaluate predictions\n",
    "accuracy = accuracy_score(y_test, predictions)\n",
    "print(\"Accuracy: %.2f%%\" % (accuracy * 100.0))\n",
    "# retrieve performance metrics\n",
    "results = model.evals_result()\n",
    "epochs = len(results['validation_0']['error'])\n",
    "x_axis = range(0, epochs)"
   ]
  },
  {
   "cell_type": "code",
   "execution_count": 27,
   "metadata": {},
   "outputs": [
    {
     "data": {
      "image/png": "[encoded data removed]",
      "text/plain": [
       "<Figure size 432x288 with 1 Axes>"
      ]
     },
     "metadata": {
      "needs_background": "light"
     },
     "output_type": "display_data"
    }
   ],
   "source": [
    "# plot log loss\n",
    "fig, ax = pyplot.subplots()\n",
    "ax.plot(x_axis, results['validation_0']['logloss'], label='Train')\n",
    "ax.plot(x_axis, results['validation_1']['logloss'], label='Test')\n",
    "ax.legend()\n",
    "pyplot.ylabel('Log Loss')\n",
    "pyplot.title('XGBoost Log Loss')\n",
    "pyplot.show()"
   ]
  },
  {
   "cell_type": "code",
   "execution_count": 28,
   "metadata": {},
   "outputs": [
    {
     "data": {
      "image/png": "[encoded data removed]",
      "text/plain": [
       "<Figure size 432x288 with 1 Axes>"
      ]
     },
     "metadata": {
      "needs_background": "light"
     },
     "output_type": "display_data"
    }
   ],
   "source": [
    "# plot classification error\n",
    "fig, ax = pyplot.subplots()\n",
    "ax.plot(x_axis, results['validation_0']['error'], label='Train')\n",
    "ax.plot(x_axis, results['validation_1']['error'], label='Test')\n",
    "ax.legend()\n",
    "pyplot.ylabel('Classification Error')\n",
    "pyplot.title('XGBoost Classification Error')\n",
    "pyplot.show()"
   ]
  },
  {
   "cell_type": "code",
   "execution_count": 29,
   "metadata": {},
   "outputs": [
    {
     "name": "stdout",
     "output_type": "stream",
     "text": [
      "[0]\tvalidation_0-logloss:0.55257\tvalidation_1-logloss:0.60491\n",
      "[1]\tvalidation_0-logloss:0.46754\tvalidation_1-logloss:0.55934\n",
      "[2]\tvalidation_0-logloss:0.40734\tvalidation_1-logloss:0.53068\n",
      "[3]\tvalidation_0-logloss:0.36480\tvalidation_1-logloss:0.51795\n",
      "[4]\tvalidation_0-logloss:0.33012\tvalidation_1-logloss:0.51153\n",
      "[5]\tvalidation_0-logloss:0.29868\tvalidation_1-logloss:0.50934\n",
      "[6]\tvalidation_0-logloss:0.27852\tvalidation_1-logloss:0.50818\n",
      "[7]\tvalidation_0-logloss:0.26182\tvalidation_1-logloss:0.51097\n",
      "[8]\tvalidation_0-logloss:0.24578\tvalidation_1-logloss:0.51760\n",
      "[9]\tvalidation_0-logloss:0.23298\tvalidation_1-logloss:0.51912\n",
      "[10]\tvalidation_0-logloss:0.21955\tvalidation_1-logloss:0.52503\n",
      "[11]\tvalidation_0-logloss:0.21051\tvalidation_1-logloss:0.52697\n",
      "[12]\tvalidation_0-logloss:0.20083\tvalidation_1-logloss:0.53335\n",
      "[13]\tvalidation_0-logloss:0.19466\tvalidation_1-logloss:0.53905\n",
      "[14]\tvalidation_0-logloss:0.18725\tvalidation_1-logloss:0.54545\n",
      "[15]\tvalidation_0-logloss:0.17765\tvalidation_1-logloss:0.54613\n",
      "[16]\tvalidation_0-logloss:0.16747\tvalidation_1-logloss:0.54982\n",
      "Accuracy: 74.41%\n"
     ]
    }
   ],
   "source": [
    "# fit model on training data and add early stopping to 10th epoch \n",
    "model.fit(X_train, y_train, early_stopping_rounds=10, eval_metric=\"logloss\",eval_set=eval_set, verbose=True)\n",
    "# make predictions for test data\n",
    "predictions = model.predict(X_test)\n",
    "# evaluate predictions\n",
    "accuracy = accuracy_score(y_test, predictions)\n",
    "print(\"Accuracy: %.2f%%\" % (accuracy * 100.0))"
   ]
  }
 ],
 "metadata": {
  "kernelspec": {
   "display_name": "base",
   "language": "python",
   "name": "python3"
  },
  "language_info": {
   "codemirror_mode": {
    "name": "ipython",
    "version": 3
   },
   "file_extension": ".py",
   "mimetype": "text/x-python",
   "name": "python",
   "nbconvert_exporter": "python",
   "pygments_lexer": "ipython3",
   "version": "3.7.4"
  }
 },
 "nbformat": 4,
 "nbformat_minor": 2
}
