{
 "cells": [
  {
   "cell_type": "code",
   "execution_count": 1,
   "metadata": {},
   "outputs": [],
   "source": [
    "from xgboost import XGBClassifier, plot_importance\n",
    "from sklearn.model_selection import train_test_split\n",
    "from sklearn.feature_selection import SelectFromModel\n",
    "from sklearn.metrics import accuracy_score\n",
    "\n",
    "import matplotlib.pyplot as plt\n",
    "import pandas as pd \n",
    "from numpy import sort"
   ]
  },
  {
   "cell_type": "code",
   "execution_count": 2,
   "metadata": {},
   "outputs": [],
   "source": [
    "# loaddataset \n",
    "dataset = pd.read_csv('diabetes.csv') "
   ]
  },
  {
   "cell_type": "code",
   "execution_count": 3,
   "metadata": {},
   "outputs": [
    {
     "data": {
      "text/html": [
       "<div>\n",
       "<style scoped>\n",
       "    .dataframe tbody tr th:only-of-type {\n",
       "        vertical-align: middle;\n",
       "    }\n",
       "\n",
       "    .dataframe tbody tr th {\n",
       "        vertical-align: top;\n",
       "    }\n",
       "\n",
       "    .dataframe thead th {\n",
       "        text-align: right;\n",
       "    }\n",
       "</style>\n",
       "<table border=\"1\" class=\"dataframe\">\n",
       "  <thead>\n",
       "    <tr style=\"text-align: right;\">\n",
       "      <th></th>\n",
       "      <th>Pregnancies</th>\n",
       "      <th>Glucose</th>\n",
       "      <th>BloodPressure</th>\n",
       "      <th>SkinThickness</th>\n",
       "      <th>Insulin</th>\n",
       "      <th>BMI</th>\n",
       "      <th>DiabetesPedigreeFunction</th>\n",
       "      <th>Age</th>\n",
       "      <th>Outcome</th>\n",
       "    </tr>\n",
       "  </thead>\n",
       "  <tbody>\n",
       "    <tr>\n",
       "      <th>0</th>\n",
       "      <td>6</td>\n",
       "      <td>148</td>\n",
       "      <td>72</td>\n",
       "      <td>35</td>\n",
       "      <td>0</td>\n",
       "      <td>33.6</td>\n",
       "      <td>0.627</td>\n",
       "      <td>50</td>\n",
       "      <td>1</td>\n",
       "    </tr>\n",
       "    <tr>\n",
       "      <th>1</th>\n",
       "      <td>1</td>\n",
       "      <td>85</td>\n",
       "      <td>66</td>\n",
       "      <td>29</td>\n",
       "      <td>0</td>\n",
       "      <td>26.6</td>\n",
       "      <td>0.351</td>\n",
       "      <td>31</td>\n",
       "      <td>0</td>\n",
       "    </tr>\n",
       "    <tr>\n",
       "      <th>2</th>\n",
       "      <td>8</td>\n",
       "      <td>183</td>\n",
       "      <td>64</td>\n",
       "      <td>0</td>\n",
       "      <td>0</td>\n",
       "      <td>23.3</td>\n",
       "      <td>0.672</td>\n",
       "      <td>32</td>\n",
       "      <td>1</td>\n",
       "    </tr>\n",
       "    <tr>\n",
       "      <th>3</th>\n",
       "      <td>1</td>\n",
       "      <td>89</td>\n",
       "      <td>66</td>\n",
       "      <td>23</td>\n",
       "      <td>94</td>\n",
       "      <td>28.1</td>\n",
       "      <td>0.167</td>\n",
       "      <td>21</td>\n",
       "      <td>0</td>\n",
       "    </tr>\n",
       "    <tr>\n",
       "      <th>4</th>\n",
       "      <td>0</td>\n",
       "      <td>137</td>\n",
       "      <td>40</td>\n",
       "      <td>35</td>\n",
       "      <td>168</td>\n",
       "      <td>43.1</td>\n",
       "      <td>2.288</td>\n",
       "      <td>33</td>\n",
       "      <td>1</td>\n",
       "    </tr>\n",
       "  </tbody>\n",
       "</table>\n",
       "</div>"
      ],
      "text/plain": [
       "   Pregnancies  Glucose  BloodPressure  SkinThickness  Insulin   BMI  \\\n",
       "0            6      148             72             35        0  33.6   \n",
       "1            1       85             66             29        0  26.6   \n",
       "2            8      183             64              0        0  23.3   \n",
       "3            1       89             66             23       94  28.1   \n",
       "4            0      137             40             35      168  43.1   \n",
       "\n",
       "   DiabetesPedigreeFunction  Age  Outcome  \n",
       "0                     0.627   50        1  \n",
       "1                     0.351   31        0  \n",
       "2                     0.672   32        1  \n",
       "3                     0.167   21        0  \n",
       "4                     2.288   33        1  "
      ]
     },
     "execution_count": 3,
     "metadata": {},
     "output_type": "execute_result"
    }
   ],
   "source": [
    "dataset.head()"
   ]
  },
  {
   "cell_type": "code",
   "execution_count": 4,
   "metadata": {},
   "outputs": [
    {
     "name": "stdout",
     "output_type": "stream",
     "text": [
      "<class 'pandas.core.frame.DataFrame'>\n",
      "RangeIndex: 768 entries, 0 to 767\n",
      "Data columns (total 9 columns):\n",
      " #   Column                    Non-Null Count  Dtype  \n",
      "---  ------                    --------------  -----  \n",
      " 0   Pregnancies               768 non-null    int64  \n",
      " 1   Glucose                   768 non-null    int64  \n",
      " 2   BloodPressure             768 non-null    int64  \n",
      " 3   SkinThickness             768 non-null    int64  \n",
      " 4   Insulin                   768 non-null    int64  \n",
      " 5   BMI                       768 non-null    float64\n",
      " 6   DiabetesPedigreeFunction  768 non-null    float64\n",
      " 7   Age                       768 non-null    int64  \n",
      " 8   Outcome                   768 non-null    int64  \n",
      "dtypes: float64(2), int64(7)\n",
      "memory usage: 54.1 KB\n"
     ]
    }
   ],
   "source": [
    "dataset.info()"
   ]
  },
  {
   "cell_type": "code",
   "execution_count": 33,
   "metadata": {},
   "outputs": [],
   "source": [
    "X = dataset.drop('Outcome', axis=1).values \n",
    "y = dataset.Outcome.values "
   ]
  },
  {
   "cell_type": "code",
   "execution_count": 53,
   "metadata": {},
   "outputs": [],
   "source": [
    "# set seed and split to train and test datasets \n",
    "seed = 11\n",
    "test_size = 0.33 \n",
    "X_train, X_test, y_train, y_test = train_test_split(X, y, test_size=test_size,random_state=seed)"
   ]
  },
  {
   "cell_type": "code",
   "execution_count": 45,
   "metadata": {},
   "outputs": [],
   "source": [
    "# fit model on training data\n",
    "model = XGBClassifier()\n",
    "model.fit(X_train, y_train)\n",
    "# make predictions for test \n",
    "predictions = model.predict(X_test)"
   ]
  },
  {
   "cell_type": "code",
   "execution_count": 46,
   "metadata": {},
   "outputs": [
    {
     "name": "stdout",
     "output_type": "stream",
     "text": [
      "Accuracy: 79.92%\n"
     ]
    }
   ],
   "source": [
    "# evaluate the models \n",
    "accuracy = accuracy_score(y_test, predictions) \n",
    "print(\"Accuracy: %.2f%%\" % (accuracy * 100.0))"
   ]
  },
  {
   "cell_type": "code",
   "execution_count": 47,
   "metadata": {},
   "outputs": [
    {
     "name": "stdout",
     "output_type": "stream",
     "text": [
      "[0.09296753 0.2369242  0.10471074 0.0848868  0.10554386 0.14981464\n",
      " 0.09501134 0.13014093]\n"
     ]
    },
    {
     "data": {
      "image/png": "[encoded data removed]",
      "text/plain": [
       "<Figure size 432x288 with 1 Axes>"
      ]
     },
     "metadata": {
      "needs_background": "light"
     },
     "output_type": "display_data"
    }
   ],
   "source": [
    "# feature importance\n",
    "print(model.feature_importances_)\n",
    "# plot\n",
    "plt.bar(range(len(model.feature_importances_)), model.feature_importances_)\n",
    "plt.show()"
   ]
  },
  {
   "cell_type": "code",
   "execution_count": 48,
   "metadata": {},
   "outputs": [
    {
     "data": {
      "image/png": "[encoded data removed]",
      "text/plain": [
       "<Figure size 432x288 with 1 Axes>"
      ]
     },
     "metadata": {
      "needs_background": "light"
     },
     "output_type": "display_data"
    }
   ],
   "source": [
    "# plot feature importance\n",
    "plot_importance(model)\n",
    "plt.show()"
   ]
  },
  {
   "cell_type": "code",
   "execution_count": 54,
   "metadata": {},
   "outputs": [
    {
     "name": "stdout",
     "output_type": "stream",
     "text": [
      "Thresh=0.085, n=8, Accuracy: 74.80%\n",
      "Thresh=0.093, n=7, Accuracy: 76.38%\n",
      "Thresh=0.095, n=6, Accuracy: 76.38%\n",
      "Thresh=0.105, n=5, Accuracy: 73.23%\n",
      "Thresh=0.106, n=4, Accuracy: 74.02%\n",
      "Thresh=0.130, n=3, Accuracy: 77.56%\n",
      "Thresh=0.150, n=2, Accuracy: 71.26%\n",
      "Thresh=0.237, n=1, Accuracy: 73.23%\n"
     ]
    }
   ],
   "source": [
    "accuracy_value = [] \n",
    "threshold_value = [] \n",
    "thresholds = sort(model.feature_importances_)\n",
    "for thresh in thresholds: \n",
    "    # select features using threshold \n",
    "    selection = SelectFromModel(model, threshold = thresh, prefit=True) \n",
    "    select_X_train = selection.transform(X_train) \n",
    "\n",
    "    # train model \n",
    "    selection_model = XGBClassifier() \n",
    "    selection_model.fit(select_X_train, y_train) \n",
    "\n",
    "    #eval model \n",
    "    select_X_test = selection.transform(X_test) \n",
    "    predictions = selection_model.predict(select_X_test) \n",
    "    accuracy = accuracy_score(y_test, predictions) \n",
    "    threshold_value.append(select_X_train.shape[1]) \n",
    "    accuracy_value.append(accuracy)\n",
    "    print(\"Thresh=%.3f, n=%d, Accuracy: %.2f%%\" % (thresh, select_X_train.shape[1],accuracy*100.0))\n"
   ]
  },
  {
   "cell_type": "code",
   "execution_count": 55,
   "metadata": {},
   "outputs": [],
   "source": [
    "def plot_threshold_vs_accuracy(threshold_values, accuracy_values):\n",
    "    plt.plot(threshold_values, accuracy_values, marker='o', linestyle='-')\n",
    "    plt.xlabel('Features')\n",
    "    plt.ylabel('Accuracy')\n",
    "    plt.title('Threshold vs. Accuracy')\n",
    "    plt.grid(True)\n",
    "    plt.show()"
   ]
  },
  {
   "cell_type": "code",
   "execution_count": 56,
   "metadata": {},
   "outputs": [
    {
     "data": {
      "image/png": "[encoded data removed]",
      "text/plain": [
       "<Figure size 432x288 with 1 Axes>"
      ]
     },
     "metadata": {
      "needs_background": "light"
     },
     "output_type": "display_data"
    }
   ],
   "source": [
    "# Plot the threshold versus accuracy\n",
    "plot_threshold_vs_accuracy(threshold_value, accuracy_value)"
   ]
  },
  {
   "cell_type": "code",
   "execution_count": 57,
   "metadata": {},
   "outputs": [
    {
     "name": "stdout",
     "output_type": "stream",
     "text": [
      "[0]\tvalidation_0-error:0.17899\tvalidation_0-logloss:0.56785\tvalidation_1-error:0.27953\tvalidation_1-logloss:0.60720\n",
      "[1]\tvalidation_0-error:0.14786\tvalidation_0-logloss:0.49181\tvalidation_1-error:0.27165\tvalidation_1-logloss:0.56171\n",
      "[2]\tvalidation_0-error:0.10895\tvalidation_0-logloss:0.42989\tvalidation_1-error:0.25984\tvalidation_1-logloss:0.52669\n",
      "[3]\tvalidation_0-error:0.09533\tvalidation_0-logloss:0.38381\tvalidation_1-error:0.25591\tvalidation_1-logloss:0.51372\n",
      "[4]\tvalidation_0-error:0.09728\tvalidation_0-logloss:0.35061\tvalidation_1-error:0.25591\tvalidation_1-logloss:0.50175\n",
      "[5]\tvalidation_0-error:0.07198\tvalidation_0-logloss:0.31914\tvalidation_1-error:0.24016\tvalidation_1-logloss:0.49618\n",
      "[6]\tvalidation_0-error:0.05642\tvalidation_0-logloss:0.29530\tvalidation_1-error:0.24016\tvalidation_1-logloss:0.49222\n",
      "[7]\tvalidation_0-error:0.05253\tvalidation_0-logloss:0.27715\tvalidation_1-error:0.24016\tvalidation_1-logloss:0.49175\n",
      "[8]\tvalidation_0-error:0.04669\tvalidation_0-logloss:0.25933\tvalidation_1-error:0.24409\tvalidation_1-logloss:0.48701\n",
      "[9]\tvalidation_0-error:0.03696\tvalidation_0-logloss:0.24552\tvalidation_1-error:0.22835\tvalidation_1-logloss:0.49024\n",
      "[10]\tvalidation_0-error:0.03891\tvalidation_0-logloss:0.23251\tvalidation_1-error:0.23622\tvalidation_1-logloss:0.49282\n",
      "[11]\tvalidation_0-error:0.03113\tvalidation_0-logloss:0.22093\tvalidation_1-error:0.24016\tvalidation_1-logloss:0.49205\n",
      "[12]\tvalidation_0-error:0.02529\tvalidation_0-logloss:0.20865\tvalidation_1-error:0.24803\tvalidation_1-logloss:0.49443\n",
      "[13]\tvalidation_0-error:0.02140\tvalidation_0-logloss:0.20103\tvalidation_1-error:0.26772\tvalidation_1-logloss:0.49906\n",
      "[14]\tvalidation_0-error:0.01946\tvalidation_0-logloss:0.19166\tvalidation_1-error:0.25984\tvalidation_1-logloss:0.49688\n",
      "[15]\tvalidation_0-error:0.01556\tvalidation_0-logloss:0.18495\tvalidation_1-error:0.25984\tvalidation_1-logloss:0.50045\n",
      "[16]\tvalidation_0-error:0.01556\tvalidation_0-logloss:0.17854\tvalidation_1-error:0.25197\tvalidation_1-logloss:0.50030\n",
      "[17]\tvalidation_0-error:0.01362\tvalidation_0-logloss:0.17133\tvalidation_1-error:0.25197\tvalidation_1-logloss:0.50681\n",
      "[18]\tvalidation_0-error:0.00973\tvalidation_0-logloss:0.16672\tvalidation_1-error:0.25984\tvalidation_1-logloss:0.51137\n",
      "[19]\tvalidation_0-error:0.01167\tvalidation_0-logloss:0.16371\tvalidation_1-error:0.25197\tvalidation_1-logloss:0.50899\n",
      "[20]\tvalidation_0-error:0.00973\tvalidation_0-logloss:0.15777\tvalidation_1-error:0.25591\tvalidation_1-logloss:0.51080\n",
      "[21]\tvalidation_0-error:0.01167\tvalidation_0-logloss:0.15381\tvalidation_1-error:0.24016\tvalidation_1-logloss:0.50857\n",
      "[22]\tvalidation_0-error:0.00584\tvalidation_0-logloss:0.14927\tvalidation_1-error:0.24409\tvalidation_1-logloss:0.51091\n",
      "[23]\tvalidation_0-error:0.00778\tvalidation_0-logloss:0.13954\tvalidation_1-error:0.24409\tvalidation_1-logloss:0.51486\n",
      "[24]\tvalidation_0-error:0.00584\tvalidation_0-logloss:0.13567\tvalidation_1-error:0.24016\tvalidation_1-logloss:0.51448\n",
      "[25]\tvalidation_0-error:0.00584\tvalidation_0-logloss:0.13192\tvalidation_1-error:0.24803\tvalidation_1-logloss:0.51962\n",
      "[26]\tvalidation_0-error:0.00389\tvalidation_0-logloss:0.12512\tvalidation_1-error:0.24803\tvalidation_1-logloss:0.52153\n",
      "[27]\tvalidation_0-error:0.00389\tvalidation_0-logloss:0.12050\tvalidation_1-error:0.25591\tvalidation_1-logloss:0.52326\n",
      "[28]\tvalidation_0-error:0.00389\tvalidation_0-logloss:0.11671\tvalidation_1-error:0.24803\tvalidation_1-logloss:0.52742\n",
      "[29]\tvalidation_0-error:0.00195\tvalidation_0-logloss:0.11247\tvalidation_1-error:0.25591\tvalidation_1-logloss:0.52860\n",
      "[30]\tvalidation_0-error:0.00195\tvalidation_0-logloss:0.10855\tvalidation_1-error:0.25984\tvalidation_1-logloss:0.53004\n",
      "[31]\tvalidation_0-error:0.00195\tvalidation_0-logloss:0.10541\tvalidation_1-error:0.25984\tvalidation_1-logloss:0.52893\n",
      "[32]\tvalidation_0-error:0.00195\tvalidation_0-logloss:0.10125\tvalidation_1-error:0.25197\tvalidation_1-logloss:0.53593\n",
      "[33]\tvalidation_0-error:0.00195\tvalidation_0-logloss:0.09902\tvalidation_1-error:0.25197\tvalidation_1-logloss:0.54130\n",
      "[34]\tvalidation_0-error:0.00195\tvalidation_0-logloss:0.09568\tvalidation_1-error:0.25591\tvalidation_1-logloss:0.54508\n",
      "[35]\tvalidation_0-error:0.00195\tvalidation_0-logloss:0.09348\tvalidation_1-error:0.25197\tvalidation_1-logloss:0.54748\n",
      "[36]\tvalidation_0-error:0.00195\tvalidation_0-logloss:0.08863\tvalidation_1-error:0.25197\tvalidation_1-logloss:0.55043\n",
      "[37]\tvalidation_0-error:0.00195\tvalidation_0-logloss:0.08535\tvalidation_1-error:0.25984\tvalidation_1-logloss:0.55288\n",
      "[38]\tvalidation_0-error:0.00195\tvalidation_0-logloss:0.08243\tvalidation_1-error:0.25197\tvalidation_1-logloss:0.55405\n",
      "[39]\tvalidation_0-error:0.00000\tvalidation_0-logloss:0.08026\tvalidation_1-error:0.25591\tvalidation_1-logloss:0.55660\n",
      "[40]\tvalidation_0-error:0.00000\tvalidation_0-logloss:0.07707\tvalidation_1-error:0.24803\tvalidation_1-logloss:0.56192\n",
      "[41]\tvalidation_0-error:0.00000\tvalidation_0-logloss:0.07572\tvalidation_1-error:0.24803\tvalidation_1-logloss:0.56403\n",
      "[42]\tvalidation_0-error:0.00000\tvalidation_0-logloss:0.07439\tvalidation_1-error:0.24803\tvalidation_1-logloss:0.56416\n"
     ]
    },
    {
     "name": "stderr",
     "output_type": "stream",
     "text": [
      "c:\\ProgramData\\Anaconda3\\lib\\site-packages\\xgboost\\sklearn.py:797: UserWarning: `eval_metric` in `fit` method is deprecated for better compatibility with scikit-learn, use `eval_metric` in constructor or`set_params` instead.\n",
      "  UserWarning,\n"
     ]
    },
    {
     "name": "stdout",
     "output_type": "stream",
     "text": [
      "[43]\tvalidation_0-error:0.00000\tvalidation_0-logloss:0.07199\tvalidation_1-error:0.24409\tvalidation_1-logloss:0.57045\n",
      "[44]\tvalidation_0-error:0.00000\tvalidation_0-logloss:0.06996\tvalidation_1-error:0.24016\tvalidation_1-logloss:0.57368\n",
      "[45]\tvalidation_0-error:0.00000\tvalidation_0-logloss:0.06814\tvalidation_1-error:0.23622\tvalidation_1-logloss:0.57581\n",
      "[46]\tvalidation_0-error:0.00000\tvalidation_0-logloss:0.06705\tvalidation_1-error:0.23622\tvalidation_1-logloss:0.57969\n",
      "[47]\tvalidation_0-error:0.00000\tvalidation_0-logloss:0.06503\tvalidation_1-error:0.24409\tvalidation_1-logloss:0.58155\n",
      "[48]\tvalidation_0-error:0.00000\tvalidation_0-logloss:0.06373\tvalidation_1-error:0.25197\tvalidation_1-logloss:0.58540\n",
      "[49]\tvalidation_0-error:0.00000\tvalidation_0-logloss:0.06216\tvalidation_1-error:0.24803\tvalidation_1-logloss:0.58736\n",
      "[50]\tvalidation_0-error:0.00000\tvalidation_0-logloss:0.06083\tvalidation_1-error:0.24409\tvalidation_1-logloss:0.59287\n",
      "[51]\tvalidation_0-error:0.00000\tvalidation_0-logloss:0.06001\tvalidation_1-error:0.24803\tvalidation_1-logloss:0.59751\n",
      "[52]\tvalidation_0-error:0.00000\tvalidation_0-logloss:0.05863\tvalidation_1-error:0.24409\tvalidation_1-logloss:0.59983\n",
      "[53]\tvalidation_0-error:0.00000\tvalidation_0-logloss:0.05784\tvalidation_1-error:0.24803\tvalidation_1-logloss:0.59986\n",
      "[54]\tvalidation_0-error:0.00000\tvalidation_0-logloss:0.05600\tvalidation_1-error:0.25197\tvalidation_1-logloss:0.60314\n",
      "[55]\tvalidation_0-error:0.00000\tvalidation_0-logloss:0.05427\tvalidation_1-error:0.25197\tvalidation_1-logloss:0.60454\n",
      "[56]\tvalidation_0-error:0.00000\tvalidation_0-logloss:0.05336\tvalidation_1-error:0.25197\tvalidation_1-logloss:0.60676\n",
      "[57]\tvalidation_0-error:0.00000\tvalidation_0-logloss:0.05207\tvalidation_1-error:0.25197\tvalidation_1-logloss:0.60672\n",
      "[58]\tvalidation_0-error:0.00000\tvalidation_0-logloss:0.05139\tvalidation_1-error:0.25984\tvalidation_1-logloss:0.61038\n",
      "[59]\tvalidation_0-error:0.00000\tvalidation_0-logloss:0.05023\tvalidation_1-error:0.25591\tvalidation_1-logloss:0.61205\n",
      "[60]\tvalidation_0-error:0.00000\tvalidation_0-logloss:0.04963\tvalidation_1-error:0.25984\tvalidation_1-logloss:0.61337\n",
      "[61]\tvalidation_0-error:0.00000\tvalidation_0-logloss:0.04905\tvalidation_1-error:0.25984\tvalidation_1-logloss:0.61739\n",
      "[62]\tvalidation_0-error:0.00000\tvalidation_0-logloss:0.04803\tvalidation_1-error:0.25591\tvalidation_1-logloss:0.62108\n",
      "[63]\tvalidation_0-error:0.00000\tvalidation_0-logloss:0.04741\tvalidation_1-error:0.25984\tvalidation_1-logloss:0.62476\n",
      "[64]\tvalidation_0-error:0.00000\tvalidation_0-logloss:0.04646\tvalidation_1-error:0.25591\tvalidation_1-logloss:0.62408\n",
      "[65]\tvalidation_0-error:0.00000\tvalidation_0-logloss:0.04602\tvalidation_1-error:0.24803\tvalidation_1-logloss:0.62731\n",
      "[66]\tvalidation_0-error:0.00000\tvalidation_0-logloss:0.04508\tvalidation_1-error:0.25197\tvalidation_1-logloss:0.62841\n",
      "[67]\tvalidation_0-error:0.00000\tvalidation_0-logloss:0.04432\tvalidation_1-error:0.24409\tvalidation_1-logloss:0.62862\n",
      "[68]\tvalidation_0-error:0.00000\tvalidation_0-logloss:0.04375\tvalidation_1-error:0.24803\tvalidation_1-logloss:0.63236\n",
      "[69]\tvalidation_0-error:0.00000\tvalidation_0-logloss:0.04307\tvalidation_1-error:0.24803\tvalidation_1-logloss:0.63615\n",
      "[70]\tvalidation_0-error:0.00000\tvalidation_0-logloss:0.04244\tvalidation_1-error:0.24803\tvalidation_1-logloss:0.63762\n",
      "[71]\tvalidation_0-error:0.00000\tvalidation_0-logloss:0.04191\tvalidation_1-error:0.24803\tvalidation_1-logloss:0.63824\n",
      "[72]\tvalidation_0-error:0.00000\tvalidation_0-logloss:0.04112\tvalidation_1-error:0.24803\tvalidation_1-logloss:0.64486\n",
      "[73]\tvalidation_0-error:0.00000\tvalidation_0-logloss:0.04055\tvalidation_1-error:0.25197\tvalidation_1-logloss:0.64595\n",
      "[74]\tvalidation_0-error:0.00000\tvalidation_0-logloss:0.03993\tvalidation_1-error:0.24803\tvalidation_1-logloss:0.64353\n",
      "[75]\tvalidation_0-error:0.00000\tvalidation_0-logloss:0.03932\tvalidation_1-error:0.25197\tvalidation_1-logloss:0.64850\n",
      "[76]\tvalidation_0-error:0.00000\tvalidation_0-logloss:0.03866\tvalidation_1-error:0.25197\tvalidation_1-logloss:0.65055\n",
      "[77]\tvalidation_0-error:0.00000\tvalidation_0-logloss:0.03824\tvalidation_1-error:0.25591\tvalidation_1-logloss:0.65113\n",
      "[78]\tvalidation_0-error:0.00000\tvalidation_0-logloss:0.03798\tvalidation_1-error:0.25591\tvalidation_1-logloss:0.65360\n",
      "[79]\tvalidation_0-error:0.00000\tvalidation_0-logloss:0.03758\tvalidation_1-error:0.25591\tvalidation_1-logloss:0.65475\n",
      "[80]\tvalidation_0-error:0.00000\tvalidation_0-logloss:0.03713\tvalidation_1-error:0.25591\tvalidation_1-logloss:0.65555\n",
      "[81]\tvalidation_0-error:0.00000\tvalidation_0-logloss:0.03653\tvalidation_1-error:0.24803\tvalidation_1-logloss:0.65600\n",
      "[82]\tvalidation_0-error:0.00000\tvalidation_0-logloss:0.03596\tvalidation_1-error:0.24803\tvalidation_1-logloss:0.65765\n",
      "[83]\tvalidation_0-error:0.00000\tvalidation_0-logloss:0.03556\tvalidation_1-error:0.25197\tvalidation_1-logloss:0.65929\n",
      "[84]\tvalidation_0-error:0.00000\tvalidation_0-logloss:0.03506\tvalidation_1-error:0.24803\tvalidation_1-logloss:0.65823\n",
      "[85]\tvalidation_0-error:0.00000\tvalidation_0-logloss:0.03475\tvalidation_1-error:0.24803\tvalidation_1-logloss:0.65742\n",
      "[86]\tvalidation_0-error:0.00000\tvalidation_0-logloss:0.03428\tvalidation_1-error:0.24409\tvalidation_1-logloss:0.66137\n",
      "[87]\tvalidation_0-error:0.00000\tvalidation_0-logloss:0.03383\tvalidation_1-error:0.24803\tvalidation_1-logloss:0.66371\n",
      "[88]\tvalidation_0-error:0.00000\tvalidation_0-logloss:0.03346\tvalidation_1-error:0.24803\tvalidation_1-logloss:0.66661\n",
      "[89]\tvalidation_0-error:0.00000\tvalidation_0-logloss:0.03305\tvalidation_1-error:0.24409\tvalidation_1-logloss:0.66625\n",
      "[90]\tvalidation_0-error:0.00000\tvalidation_0-logloss:0.03278\tvalidation_1-error:0.24803\tvalidation_1-logloss:0.66826\n",
      "[91]\tvalidation_0-error:0.00000\tvalidation_0-logloss:0.03237\tvalidation_1-error:0.24803\tvalidation_1-logloss:0.67159\n",
      "[92]\tvalidation_0-error:0.00000\tvalidation_0-logloss:0.03201\tvalidation_1-error:0.24409\tvalidation_1-logloss:0.67298\n",
      "[93]\tvalidation_0-error:0.00000\tvalidation_0-logloss:0.03167\tvalidation_1-error:0.24409\tvalidation_1-logloss:0.67280\n",
      "[94]\tvalidation_0-error:0.00000\tvalidation_0-logloss:0.03132\tvalidation_1-error:0.24409\tvalidation_1-logloss:0.67210\n",
      "[95]\tvalidation_0-error:0.00000\tvalidation_0-logloss:0.03103\tvalidation_1-error:0.24803\tvalidation_1-logloss:0.67364\n",
      "[96]\tvalidation_0-error:0.00000\tvalidation_0-logloss:0.03074\tvalidation_1-error:0.24803\tvalidation_1-logloss:0.67781\n",
      "[97]\tvalidation_0-error:0.00000\tvalidation_0-logloss:0.03053\tvalidation_1-error:0.25197\tvalidation_1-logloss:0.67972\n",
      "[98]\tvalidation_0-error:0.00000\tvalidation_0-logloss:0.03017\tvalidation_1-error:0.25197\tvalidation_1-logloss:0.67975\n",
      "[99]\tvalidation_0-error:0.00000\tvalidation_0-logloss:0.02985\tvalidation_1-error:0.25197\tvalidation_1-logloss:0.68260\n",
      "Accuracy: 74.80%\n"
     ]
    }
   ],
   "source": [
    "# early stopping with xgboost \n",
    "eval_set = [(X_train, y_train), (X_test, y_test)]\n",
    "model.fit(X_train, y_train, eval_metric=[\"error\", \"logloss\"], eval_set=eval_set, verbose=True)\n",
    "# make predictions for test data\n",
    "predictions = model.predict(X_test)\n",
    "# evaluate predictions\n",
    "accuracy = accuracy_score(y_test, predictions)\n",
    "print(\"Accuracy: %.2f%%\" % (accuracy * 100.0))\n",
    "# retrieve performance metrics\n",
    "results = model.evals_result()\n",
    "epochs = len(results['validation_0']['error'])\n",
    "x_axis = range(0, epochs)"
   ]
  },
  {
   "cell_type": "code",
   "execution_count": 58,
   "metadata": {},
   "outputs": [
    {
     "data": {
      "image/png": "[encoded data removed]",
      "text/plain": [
       "<Figure size 432x288 with 1 Axes>"
      ]
     },
     "metadata": {
      "needs_background": "light"
     },
     "output_type": "display_data"
    }
   ],
   "source": [
    "# plot log loss\n",
    "fig, ax = plt.subplots()\n",
    "ax.plot(x_axis, results['validation_0']['logloss'], label='Train')\n",
    "ax.plot(x_axis, results['validation_1']['logloss'], label='Test')\n",
    "ax.legend()\n",
    "plt.ylabel('Log Loss')\n",
    "plt.title('XGBoost Log Loss')\n",
    "plt.show()"
   ]
  },
  {
   "cell_type": "code",
   "execution_count": 60,
   "metadata": {},
   "outputs": [
    {
     "data": {
      "image/png": "[encoded data removed]",
      "text/plain": [
       "<Figure size 432x288 with 1 Axes>"
      ]
     },
     "metadata": {
      "needs_background": "light"
     },
     "output_type": "display_data"
    }
   ],
   "source": [
    "# plot classification error\n",
    "fig, ax = plt.subplots()\n",
    "ax.plot(x_axis, results['validation_0']['error'], label='Train')\n",
    "ax.plot(x_axis, results['validation_1']['error'], label='Test')\n",
    "ax.legend()\n",
    "plt.ylabel('Classification Error')\n",
    "plt.title('XGBoost Classification Error')\n",
    "plt.show()"
   ]
  },
  {
   "cell_type": "code",
   "execution_count": 61,
   "metadata": {},
   "outputs": [
    {
     "name": "stdout",
     "output_type": "stream",
     "text": [
      "[0]\tvalidation_0-logloss:0.56785\tvalidation_1-logloss:0.60720\n",
      "[1]\tvalidation_0-logloss:0.49181\tvalidation_1-logloss:0.56171\n",
      "[2]\tvalidation_0-logloss:0.42989\tvalidation_1-logloss:0.52669\n",
      "[3]\tvalidation_0-logloss:0.38381\tvalidation_1-logloss:0.51372\n",
      "[4]\tvalidation_0-logloss:0.35061\tvalidation_1-logloss:0.50175\n",
      "[5]\tvalidation_0-logloss:0.31914\tvalidation_1-logloss:0.49618\n",
      "[6]\tvalidation_0-logloss:0.29530\tvalidation_1-logloss:0.49222\n",
      "[7]\tvalidation_0-logloss:0.27715\tvalidation_1-logloss:0.49175\n",
      "[8]\tvalidation_0-logloss:0.25933\tvalidation_1-logloss:0.48701\n",
      "[9]\tvalidation_0-logloss:0.24552\tvalidation_1-logloss:0.49024\n",
      "[10]\tvalidation_0-logloss:0.23251\tvalidation_1-logloss:0.49282\n",
      "[11]\tvalidation_0-logloss:0.22093\tvalidation_1-logloss:0.49205\n",
      "[12]\tvalidation_0-logloss:0.20865\tvalidation_1-logloss:0.49443\n",
      "[13]\tvalidation_0-logloss:0.20103\tvalidation_1-logloss:0.49906\n",
      "[14]\tvalidation_0-logloss:0.19166\tvalidation_1-logloss:0.49688\n",
      "[15]\tvalidation_0-logloss:0.18495\tvalidation_1-logloss:0.50045\n",
      "[16]\tvalidation_0-logloss:0.17854\tvalidation_1-logloss:0.50030\n",
      "[17]\tvalidation_0-logloss:0.17133\tvalidation_1-logloss:0.50681\n",
      "Accuracy: 75.59%\n"
     ]
    },
    {
     "name": "stderr",
     "output_type": "stream",
     "text": [
      "c:\\ProgramData\\Anaconda3\\lib\\site-packages\\xgboost\\sklearn.py:797: UserWarning: `eval_metric` in `fit` method is deprecated for better compatibility with scikit-learn, use `eval_metric` in constructor or`set_params` instead.\n",
      "  UserWarning,\n",
      "c:\\ProgramData\\Anaconda3\\lib\\site-packages\\xgboost\\sklearn.py:797: UserWarning: `early_stopping_rounds` in `fit` method is deprecated for better compatibility with scikit-learn, use `early_stopping_rounds` in constructor or`set_params` instead.\n",
      "  UserWarning,\n"
     ]
    }
   ],
   "source": [
    "# fit model on training data and add early stopping to 10th epoch \n",
    "model.fit(X_train, y_train, early_stopping_rounds=10, eval_metric=\"logloss\",eval_set=eval_set, verbose=True)\n",
    "# make predictions for test data\n",
    "predictions = model.predict(X_test)\n",
    "# evaluate predictions\n",
    "accuracy = accuracy_score(y_test, predictions)\n",
    "print(\"Accuracy: %.2f%%\" % (accuracy * 100.0))"
   ]
  }
 ],
 "metadata": {
  "kernelspec": {
   "display_name": "base",
   "language": "python",
   "name": "python3"
  },
  "language_info": {
   "codemirror_mode": {
    "name": "ipython",
    "version": 3
   },
   "file_extension": ".py",
   "mimetype": "text/x-python",
   "name": "python",
   "nbconvert_exporter": "python",
   "pygments_lexer": "ipython3",
   "version": "3.8.8"
  }
 },
 "nbformat": 4,
 "nbformat_minor": 2
}
